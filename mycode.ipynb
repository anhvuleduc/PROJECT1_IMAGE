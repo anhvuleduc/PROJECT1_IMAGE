{
 "cells": [
  {
   "cell_type": "markdown",
   "metadata": {},
   "source": [
    "### IMPORT LIBRARIES"
   ]
  },
  {
   "cell_type": "code",
   "execution_count": 147,
   "metadata": {},
   "outputs": [],
   "source": [
    "import numpy as np\n",
    "from PIL import Image\n",
    "import matplotlib.pyplot as plt\n",
    "import pandas as pd\n",
    "\n",
    "img_size = 100"
   ]
  },
  {
   "cell_type": "code",
   "execution_count": 148,
   "metadata": {},
   "outputs": [],
   "source": [
    "class image_data:\n",
    "    def __init__(self, id, ref_lat, ref_long, centroid_lat, centroid_long, num_of_cells, cells_lat, cells_long, cells_rssi): \n",
    "\n",
    "        self.id = id  # image id\n",
    "        self.ref_lat = ref_lat  # reference latitude\n",
    "        self.ref_long = ref_long  # reference longitude\n",
    "        self.centroid_lat = centroid_lat  # centroid latitude\n",
    "        self.centroid_long = centroid_long  # centroid longitude\n",
    "        self.num_of_cells = num_of_cells  # number of recorded cells\n",
    "        self.cells_lat = cells_lat  # list of latitude of cells\n",
    "        self.cells_long = cells_long  # list of longitude of cells\n",
    "        self.cells_rssi = cells_rssi  # list of rssi value of cells\n",
    "\n",
    "        self.width = img_size  # image's width\n",
    "        self.height = img_size  # image's height\n",
    "        self.x = [] # x coordinate on image of cells\n",
    "        self.y = [] # y coordinate on image of cells\n",
    "        self.ref_x = self.width/2 - 1 # x coordinate on image of reference position\n",
    "        self.ref_y = self.height/2 - 1 # y coordinate on image of reference position\n",
    "        self.dmax = 0  # dmax as mentioned in the manuscript\n",
    "\n",
    "        # Initialize the image\n",
    "        self.img = np.ndarray((100,100))\n",
    "        self.img[:] = -114\n",
    "    \n",
    "\n",
    "    # Get x, y coordinates on image of cells and reference position\n",
    "    def update_xy(self):\n",
    "\n",
    "        # Calculate dmax\n",
    "        for lat in self.cells_lat:\n",
    "            self.dmax = max(self.dmax, abs(self.centroid_lat - lat))\n",
    "        for long in self.cells_long:\n",
    "            self.dmax = max(self.dmax, abs(self.centroid_long - long))\n",
    "\n",
    "        # Calculate x, y coordinates on image of cells, the formula can be found in the manuscript\n",
    "        for i in range(self.num_of_cells):\n",
    "            d_long = self.cells_long[i] - self.centroid_long\n",
    "            d_lat = self.cells_lat[i] - self.centroid_lat\n",
    "\n",
    "            x_coord = self.width/2 - 1\n",
    "            y_coord = self.height/2 - 1\n",
    "\n",
    "            if (self.dmax > 0):\n",
    "                x_coord = max(0, int((d_long/(2 * self.dmax) + 0.5) * self.width) - 1)\n",
    "                y_coord = max(0, int((d_lat/(2 * self.dmax) + 0.5) * self.width) - 1)\n",
    "            self.x.append(x_coord)\n",
    "            self.y.append(y_coord)\n",
    "\n",
    "        # Calculate x, y coordinates on image of reference position\n",
    "        if (self.dmax > 0):\n",
    "            d_long = self.ref_long - self.centroid_long\n",
    "            d_lat = self.ref_lat - self.centroid_lat\n",
    "            self.ref_x = max(0, int((d_long/(2 * self.dmax) + 0.5) * self.width) - 1)\n",
    "            self.ref_y = max(0, int((d_lat/(2 * self.dmax) + 0.5) * self.width) - 1)\n",
    "\n",
    "\n",
    "    '''\n",
    "        Calculate the spreading model of a cell base on: Its rssi, its position and reference position -> spreading loss coefficient\n",
    "\n",
    "        The spreading model of mobile signal can be modeled by the log distance path loss model\n",
    "        https://en.wikipedia.org/wiki/Log-distance_path_loss_model\n",
    "\n",
    "        Simplified: \n",
    "        RSSI(d) = RSSI(d0) + coeff * log10(d0/d)\n",
    "        In the function: d0 = 1, RSSI(1) = 0 (at source)\n",
    "    '''\n",
    "    def cell_spread_model(self, cell_id):\n",
    "\n",
    "        rssi = self.cells_rssi[cell_id]  # The cell's rssi\n",
    "        cell_x = self.x[cell_id]  # The cell's x coordinate on image\n",
    "        cell_y = self.y[cell_id]  # The cell's y coordinate on image\n",
    "        d = float(np.sqrt((self.ref_x - cell_x) ** 2 + (self.ref_y - cell_y) ** 2))  # Distance between the cell and the reference position\n",
    "\n",
    "        if d == 0:\n",
    "            self.img[cell_x][cell_y] = 0\n",
    "            return\n",
    "        \n",
    "        coeff = rssi/(np.log10(1/d))  # The spreading loss coefficient\n",
    "\n",
    "        for x in range (0, img_size):\n",
    "            for y in range (0, img_size):\n",
    "                if (x == cell_x and y == cell_y):\n",
    "                    continue\n",
    "                dis = float(np.sqrt((x - cell_x) ** 2 + (y - cell_y) ** 2))\n",
    "                self.img[x][y] = max(self.img[x][y], rssi + coeff *  np.log10(d/dis))\n",
    "        self.img[cell_x][cell_y] = 0\n",
    "        \n",
    "        \n",
    "    # Generate and return the image\n",
    "\n",
    "    def gen_image(self) -> np.ndarray:\n",
    "        self.update_xy()\n",
    "        cnt = 2\n",
    "        for cell_id in range(self.num_of_cells):\n",
    "            self.cell_spread_model(cell_id)\n",
    "            \n",
    "        return self.img"
   ]
  },
  {
   "cell_type": "markdown",
   "metadata": {},
   "source": [
    "### READING INPUT DATA AND GENERATE IMAGE"
   ]
  },
  {
   "cell_type": "code",
   "execution_count": 149,
   "metadata": {},
   "outputs": [],
   "source": [
    "file_path = \"logFile_urban_data.csv\"\n",
    "data = pd.read_csv(file_path, header = None)\n",
    "\n",
    "image_datas = []\n",
    "\n",
    "for index, row in data.iterrows():\n",
    "    id = row[0]\n",
    "    ref_lat = row[1]\n",
    "    ref_long = row[2]\n",
    "    num_of_cells = int(row[4])\n",
    "    cells_lat = []\n",
    "    cells_long = []\n",
    "    cells_rssi = []\n",
    "    for i in range(num_of_cells):\n",
    "        cells_lat.append(row[i * 5 + 7])\n",
    "        cells_long.append(row[i * 5 + 8])\n",
    "        cells_rssi.append(row[i * 5 + 9])\n",
    "    \n",
    "    centroid_lat = sum(cells_lat) / num_of_cells\n",
    "    centroid_long = sum(cells_long) / num_of_cells\n",
    "    image_datas.append(image_data(id, ref_lat, ref_long, centroid_lat, centroid_long, num_of_cells, cells_lat, cells_long, cells_rssi))\n",
    "\n",
    "\n"
   ]
  },
  {
   "cell_type": "markdown",
   "metadata": {},
   "source": [
    "### SHOW IMAGE"
   ]
  },
  {
   "cell_type": "code",
   "execution_count": 150,
   "metadata": {},
   "outputs": [
    {
     "data": {
      "image/png": "[encoded data removed]",
      "text/plain": [
       "<Figure size 640x480 with 2 Axes>"
      ]
     },
     "metadata": {},
     "output_type": "display_data"
    }
   ],
   "source": [
    "index = 201\n",
    "img = image_datas[index-1].gen_image() # Change the index to see the image corresponding to the data row in csv file\n",
    "plt.imshow(img, cmap='gray', interpolation='none')\n",
    "plt.colorbar()\n",
    "plt.title(f\"Cell image for data row {index}\")\n",
    "plt.xlabel(\"X-axis\")\n",
    "plt.ylabel(\"Y-axis\")\n",
    "plt.show()"
   ]
  }
 ],
 "metadata": {
  "kernelspec": {
   "display_name": "Python 3",
   "language": "python",
   "name": "python3"
  },
  "language_info": {
   "codemirror_mode": {
    "name": "ipython",
    "version": 3
   },
   "file_extension": ".py",
   "mimetype": "text/x-python",
   "name": "python",
   "nbconvert_exporter": "python",
   "pygments_lexer": "ipython3",
   "version": "3.11.5"
  }
 },
 "nbformat": 4,
 "nbformat_minor": 2
}
